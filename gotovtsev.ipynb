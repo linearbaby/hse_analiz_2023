{
 "cells": [
  {
   "cell_type": "markdown",
   "metadata": {},
   "source": [
    "# Домашнее задание"
   ]
  },
  {
   "cell_type": "markdown",
   "metadata": {},
   "source": [
    "Data contains the book rating information. Ratings (Book-Rating) are either explicit, expressed on a scale from 1-10 (higher values denoting higher appreciation), or implicit, expressed by 0."
   ]
  },
  {
   "cell_type": "markdown",
   "metadata": {},
   "source": [
    "### 1. Реализовать персональный топ  - принимает на вход возраст и локацию, на выходе персональный топ   - 1 балл\n",
    "\n",
    "Персональный топ - это топ товаров по похожим возрасту/интересам/локации. Как сделать? Разбить на сегменты по выбраным признакам. Топ делать по книгам с хорошим средним рейтингом.\n",
    "\n",
    "### 2. На основе метода кластеризации похожих пользователей построить рекомендации (Слайд 27) - 3 балла\n",
    "\n",
    "Нужно топ-10 рекомендаций с самой высокой оценкой. Считаем среднюю оценку для каждой книги по кластеру и выводим топ-10 книг.\n",
    "\n",
    "### 3. Совстречаемость - 3 балла\n",
    "\n",
    "В совстречаемости также учитывать оценки. Вес пары книг встретившихся у пользователя - полусумма их оценок.\n",
    "\n",
    "### 4. Коллаборативная фильтрация - 3 балла\n",
    "\n",
    "Коллаборативную фильтрацию реализовывать как на слайде 51 презентации, посоветовав каждому пользователю топ-10 книг с самой высокой оценкой. Сделать рекомендации User-based и Item-based и сравнить.\n",
    "\n",
    "Если совсем сложно - можно сделать как в семинарской части, поставив оценку \"0\", если рейтинг < 5 и \"1\" - в противном случае. Тогда максимум за это - 1 балл. Реализовать U2I и I2I рекомендации.\n",
    "\n",
    "### Примечание:\n",
    "\n",
    "Так как пользователей много - можно зафиксировать несколько произвольных и для них уже составлять рекомендации\n",
    "\n",
    "Работоспособность I2I можно проверять на известных книгах (Гарри Поттер, Властелин Колец, Интервью с вампиром, Код-Да-Винчи, Маленький Принц)\n",
    "\n",
    "Рейтинг книг обязательно нужно учитывать\n",
    "\n",
    "Не забываем также предобработать данные - выкинуть выбросы-пользователей и выбросы-книги.\n",
    "\n",
    "# Жесткий дедлайн 15 декабря 23:59\n",
    "\n",
    "Выводить в качестве рекомендаций лучше названия книг, картинки (если они есть) и соответствующие метрики близости."
   ]
  },
  {
   "cell_type": "code",
   "execution_count": 1,
   "metadata": {},
   "outputs": [],
   "source": [
    "from io import BytesIO\n",
    "from PIL import Image\n",
    "import requests\n",
    "import matplotlib.pyplot as plt\n",
    "import seaborn as sns\n",
    "from sklearn.metrics.pairwise import cosine_similarity\n",
    "# import gensim\n",
    "from scipy.sparse import coo_matrix, csr_matrix\n",
    "from scipy.sparse.linalg import svds\n",
    "import numpy as np\n",
    "import pandas as pd\n",
    "from tqdm import tqdm\n",
    "\n",
    "from sklearn.decomposition import TruncatedSVD\n",
    "from sklearn.cluster import KMeans\n",
    "from matplotlib import pyplot as plt\n",
    "from scipy.sparse import coo_array\n",
    "\n",
    "import re"
   ]
  },
  {
   "cell_type": "code",
   "execution_count": 2,
   "metadata": {},
   "outputs": [
    {
     "name": "stderr",
     "output_type": "stream",
     "text": [
      "/var/folders/bp/17h6b6pd1s3fm5ppjqspzk_sfr4y0s/T/ipykernel_92149/2179646983.py:1: DtypeWarning: Columns (3) have mixed types. Specify dtype option on import or set low_memory=False.\n",
      "  books = pd.read_csv(\"BX-Books.csv\")\n"
     ]
    }
   ],
   "source": [
    "books = pd.read_csv(\"BX-Books.csv\")"
   ]
  },
  {
   "cell_type": "code",
   "execution_count": 3,
   "metadata": {},
   "outputs": [],
   "source": [
    "interactions = pd.read_csv(\"BX-Book-Ratings.csv\", sep=\";\", encoding = \"ISO-8859-1\")"
   ]
  },
  {
   "cell_type": "code",
   "execution_count": 4,
   "metadata": {},
   "outputs": [],
   "source": [
    "interactions = interactions[interactions[\"Book-Rating\"] != 0]"
   ]
  },
  {
   "cell_type": "code",
   "execution_count": 5,
   "metadata": {},
   "outputs": [
    {
     "data": {
      "text/html": [
       "<div>\n",
       "<style scoped>\n",
       "    .dataframe tbody tr th:only-of-type {\n",
       "        vertical-align: middle;\n",
       "    }\n",
       "\n",
       "    .dataframe tbody tr th {\n",
       "        vertical-align: top;\n",
       "    }\n",
       "\n",
       "    .dataframe thead th {\n",
       "        text-align: right;\n",
       "    }\n",
       "</style>\n",
       "<table border=\"1\" class=\"dataframe\">\n",
       "  <thead>\n",
       "    <tr style=\"text-align: right;\">\n",
       "      <th></th>\n",
       "      <th>User-ID</th>\n",
       "      <th>ISBN</th>\n",
       "      <th>Book-Rating</th>\n",
       "    </tr>\n",
       "  </thead>\n",
       "  <tbody>\n",
       "    <tr>\n",
       "      <th>1</th>\n",
       "      <td>276726</td>\n",
       "      <td>0155061224</td>\n",
       "      <td>5</td>\n",
       "    </tr>\n",
       "    <tr>\n",
       "      <th>3</th>\n",
       "      <td>276729</td>\n",
       "      <td>052165615X</td>\n",
       "      <td>3</td>\n",
       "    </tr>\n",
       "    <tr>\n",
       "      <th>4</th>\n",
       "      <td>276729</td>\n",
       "      <td>0521795028</td>\n",
       "      <td>6</td>\n",
       "    </tr>\n",
       "    <tr>\n",
       "      <th>6</th>\n",
       "      <td>276736</td>\n",
       "      <td>3257224281</td>\n",
       "      <td>8</td>\n",
       "    </tr>\n",
       "    <tr>\n",
       "      <th>7</th>\n",
       "      <td>276737</td>\n",
       "      <td>0600570967</td>\n",
       "      <td>6</td>\n",
       "    </tr>\n",
       "  </tbody>\n",
       "</table>\n",
       "</div>"
      ],
      "text/plain": [
       "   User-ID        ISBN  Book-Rating\n",
       "1   276726  0155061224            5\n",
       "3   276729  052165615X            3\n",
       "4   276729  0521795028            6\n",
       "6   276736  3257224281            8\n",
       "7   276737  0600570967            6"
      ]
     },
     "execution_count": 5,
     "metadata": {},
     "output_type": "execute_result"
    }
   ],
   "source": [
    "interactions.head()"
   ]
  },
  {
   "cell_type": "code",
   "execution_count": 6,
   "metadata": {},
   "outputs": [
    {
     "data": {
      "text/html": [
       "<div>\n",
       "<style scoped>\n",
       "    .dataframe tbody tr th:only-of-type {\n",
       "        vertical-align: middle;\n",
       "    }\n",
       "\n",
       "    .dataframe tbody tr th {\n",
       "        vertical-align: top;\n",
       "    }\n",
       "\n",
       "    .dataframe thead th {\n",
       "        text-align: right;\n",
       "    }\n",
       "</style>\n",
       "<table border=\"1\" class=\"dataframe\">\n",
       "  <thead>\n",
       "    <tr style=\"text-align: right;\">\n",
       "      <th></th>\n",
       "      <th>ISBN</th>\n",
       "      <th>Book-Title</th>\n",
       "      <th>Book-Author</th>\n",
       "      <th>Year-Of-Publication</th>\n",
       "      <th>Publisher</th>\n",
       "      <th>Image-URL-S</th>\n",
       "      <th>Image-URL-M</th>\n",
       "      <th>Image-URL-L</th>\n",
       "    </tr>\n",
       "  </thead>\n",
       "  <tbody>\n",
       "    <tr>\n",
       "      <th>0</th>\n",
       "      <td>0195153448</td>\n",
       "      <td>Classical Mythology</td>\n",
       "      <td>Mark P. O. Morford</td>\n",
       "      <td>2002</td>\n",
       "      <td>Oxford University Press</td>\n",
       "      <td>http://images.amazon.com/images/P/0195153448.0...</td>\n",
       "      <td>http://images.amazon.com/images/P/0195153448.0...</td>\n",
       "      <td>http://images.amazon.com/images/P/0195153448.0...</td>\n",
       "    </tr>\n",
       "    <tr>\n",
       "      <th>1</th>\n",
       "      <td>0002005018</td>\n",
       "      <td>Clara Callan</td>\n",
       "      <td>Richard Bruce Wright</td>\n",
       "      <td>2001</td>\n",
       "      <td>HarperFlamingo Canada</td>\n",
       "      <td>http://images.amazon.com/images/P/0002005018.0...</td>\n",
       "      <td>http://images.amazon.com/images/P/0002005018.0...</td>\n",
       "      <td>http://images.amazon.com/images/P/0002005018.0...</td>\n",
       "    </tr>\n",
       "    <tr>\n",
       "      <th>2</th>\n",
       "      <td>0060973129</td>\n",
       "      <td>Decision in Normandy</td>\n",
       "      <td>Carlo D'Este</td>\n",
       "      <td>1991</td>\n",
       "      <td>HarperPerennial</td>\n",
       "      <td>http://images.amazon.com/images/P/0060973129.0...</td>\n",
       "      <td>http://images.amazon.com/images/P/0060973129.0...</td>\n",
       "      <td>http://images.amazon.com/images/P/0060973129.0...</td>\n",
       "    </tr>\n",
       "    <tr>\n",
       "      <th>3</th>\n",
       "      <td>0374157065</td>\n",
       "      <td>Flu: The Story of the Great Influenza Pandemic...</td>\n",
       "      <td>Gina Bari Kolata</td>\n",
       "      <td>1999</td>\n",
       "      <td>Farrar Straus Giroux</td>\n",
       "      <td>http://images.amazon.com/images/P/0374157065.0...</td>\n",
       "      <td>http://images.amazon.com/images/P/0374157065.0...</td>\n",
       "      <td>http://images.amazon.com/images/P/0374157065.0...</td>\n",
       "    </tr>\n",
       "    <tr>\n",
       "      <th>4</th>\n",
       "      <td>0393045218</td>\n",
       "      <td>The Mummies of Urumchi</td>\n",
       "      <td>E. J. W. Barber</td>\n",
       "      <td>1999</td>\n",
       "      <td>W. W. Norton &amp;amp; Company</td>\n",
       "      <td>http://images.amazon.com/images/P/0393045218.0...</td>\n",
       "      <td>http://images.amazon.com/images/P/0393045218.0...</td>\n",
       "      <td>http://images.amazon.com/images/P/0393045218.0...</td>\n",
       "    </tr>\n",
       "  </tbody>\n",
       "</table>\n",
       "</div>"
      ],
      "text/plain": [
       "         ISBN                                         Book-Title  \\\n",
       "0  0195153448                                Classical Mythology   \n",
       "1  0002005018                                       Clara Callan   \n",
       "2  0060973129                               Decision in Normandy   \n",
       "3  0374157065  Flu: The Story of the Great Influenza Pandemic...   \n",
       "4  0393045218                             The Mummies of Urumchi   \n",
       "\n",
       "            Book-Author Year-Of-Publication                   Publisher  \\\n",
       "0    Mark P. O. Morford                2002     Oxford University Press   \n",
       "1  Richard Bruce Wright                2001       HarperFlamingo Canada   \n",
       "2          Carlo D'Este                1991             HarperPerennial   \n",
       "3      Gina Bari Kolata                1999        Farrar Straus Giroux   \n",
       "4       E. J. W. Barber                1999  W. W. Norton &amp; Company   \n",
       "\n",
       "                                         Image-URL-S  \\\n",
       "0  http://images.amazon.com/images/P/0195153448.0...   \n",
       "1  http://images.amazon.com/images/P/0002005018.0...   \n",
       "2  http://images.amazon.com/images/P/0060973129.0...   \n",
       "3  http://images.amazon.com/images/P/0374157065.0...   \n",
       "4  http://images.amazon.com/images/P/0393045218.0...   \n",
       "\n",
       "                                         Image-URL-M  \\\n",
       "0  http://images.amazon.com/images/P/0195153448.0...   \n",
       "1  http://images.amazon.com/images/P/0002005018.0...   \n",
       "2  http://images.amazon.com/images/P/0060973129.0...   \n",
       "3  http://images.amazon.com/images/P/0374157065.0...   \n",
       "4  http://images.amazon.com/images/P/0393045218.0...   \n",
       "\n",
       "                                         Image-URL-L  \n",
       "0  http://images.amazon.com/images/P/0195153448.0...  \n",
       "1  http://images.amazon.com/images/P/0002005018.0...  \n",
       "2  http://images.amazon.com/images/P/0060973129.0...  \n",
       "3  http://images.amazon.com/images/P/0374157065.0...  \n",
       "4  http://images.amazon.com/images/P/0393045218.0...  "
      ]
     },
     "execution_count": 6,
     "metadata": {},
     "output_type": "execute_result"
    }
   ],
   "source": [
    "books.head()"
   ]
  },
  {
   "cell_type": "code",
   "execution_count": 7,
   "metadata": {},
   "outputs": [],
   "source": [
    "# сколько раз книга была прочитана\n",
    "books_meets = interactions.groupby(\"ISBN\")[\"User-ID\"].count().reset_index().rename(columns={\"User-ID\": \"user_num\"})"
   ]
  },
  {
   "cell_type": "code",
   "execution_count": 8,
   "metadata": {},
   "outputs": [],
   "source": [
    "# сколько книг прочитал пользователь\n",
    "user_meets = interactions.groupby(\"User-ID\")[\"ISBN\"].count().reset_index().rename(columns={\"ISBN\": \"books_num\"})"
   ]
  },
  {
   "cell_type": "code",
   "execution_count": 9,
   "metadata": {},
   "outputs": [
    {
     "data": {
      "text/html": [
       "<div>\n",
       "<style scoped>\n",
       "    .dataframe tbody tr th:only-of-type {\n",
       "        vertical-align: middle;\n",
       "    }\n",
       "\n",
       "    .dataframe tbody tr th {\n",
       "        vertical-align: top;\n",
       "    }\n",
       "\n",
       "    .dataframe thead th {\n",
       "        text-align: right;\n",
       "    }\n",
       "</style>\n",
       "<table border=\"1\" class=\"dataframe\">\n",
       "  <thead>\n",
       "    <tr style=\"text-align: right;\">\n",
       "      <th></th>\n",
       "      <th>User-ID</th>\n",
       "      <th>ISBN</th>\n",
       "      <th>Book-Rating</th>\n",
       "      <th>user_num</th>\n",
       "      <th>books_num</th>\n",
       "    </tr>\n",
       "  </thead>\n",
       "  <tbody>\n",
       "    <tr>\n",
       "      <th>0</th>\n",
       "      <td>276726</td>\n",
       "      <td>0155061224</td>\n",
       "      <td>5</td>\n",
       "      <td>1</td>\n",
       "      <td>1</td>\n",
       "    </tr>\n",
       "    <tr>\n",
       "      <th>1</th>\n",
       "      <td>276729</td>\n",
       "      <td>052165615X</td>\n",
       "      <td>3</td>\n",
       "      <td>1</td>\n",
       "      <td>2</td>\n",
       "    </tr>\n",
       "    <tr>\n",
       "      <th>2</th>\n",
       "      <td>276729</td>\n",
       "      <td>0521795028</td>\n",
       "      <td>6</td>\n",
       "      <td>1</td>\n",
       "      <td>2</td>\n",
       "    </tr>\n",
       "    <tr>\n",
       "      <th>3</th>\n",
       "      <td>276736</td>\n",
       "      <td>3257224281</td>\n",
       "      <td>8</td>\n",
       "      <td>4</td>\n",
       "      <td>1</td>\n",
       "    </tr>\n",
       "    <tr>\n",
       "      <th>4</th>\n",
       "      <td>86583</td>\n",
       "      <td>3257224281</td>\n",
       "      <td>6</td>\n",
       "      <td>4</td>\n",
       "      <td>18</td>\n",
       "    </tr>\n",
       "  </tbody>\n",
       "</table>\n",
       "</div>"
      ],
      "text/plain": [
       "   User-ID        ISBN  Book-Rating  user_num  books_num\n",
       "0   276726  0155061224            5         1          1\n",
       "1   276729  052165615X            3         1          2\n",
       "2   276729  0521795028            6         1          2\n",
       "3   276736  3257224281            8         4          1\n",
       "4    86583  3257224281            6         4         18"
      ]
     },
     "execution_count": 9,
     "metadata": {},
     "output_type": "execute_result"
    }
   ],
   "source": [
    "interactions = interactions.merge(books_meets, on=[\"ISBN\"]).merge(user_meets, on=[\"User-ID\"])\n",
    "interactions.head()"
   ]
  },
  {
   "cell_type": "code",
   "execution_count": 10,
   "metadata": {},
   "outputs": [],
   "source": [
    "interactions = interactions[(interactions[\"user_num\"] > 5) & \n",
    "                            (interactions[\"books_num\"] > 5) &\n",
    "                            (interactions[\"books_num\"] < 200)]"
   ]
  },
  {
   "cell_type": "code",
   "execution_count": 11,
   "metadata": {},
   "outputs": [
    {
     "data": {
      "text/html": [
       "<div>\n",
       "<style scoped>\n",
       "    .dataframe tbody tr th:only-of-type {\n",
       "        vertical-align: middle;\n",
       "    }\n",
       "\n",
       "    .dataframe tbody tr th {\n",
       "        vertical-align: top;\n",
       "    }\n",
       "\n",
       "    .dataframe thead th {\n",
       "        text-align: right;\n",
       "    }\n",
       "</style>\n",
       "<table border=\"1\" class=\"dataframe\">\n",
       "  <thead>\n",
       "    <tr style=\"text-align: right;\">\n",
       "      <th></th>\n",
       "      <th>User-ID</th>\n",
       "      <th>Location</th>\n",
       "      <th>Age</th>\n",
       "    </tr>\n",
       "  </thead>\n",
       "  <tbody>\n",
       "    <tr>\n",
       "      <th>0</th>\n",
       "      <td>1</td>\n",
       "      <td>nyc, new york, usa</td>\n",
       "      <td>NaN</td>\n",
       "    </tr>\n",
       "    <tr>\n",
       "      <th>1</th>\n",
       "      <td>2</td>\n",
       "      <td>stockton, california, usa</td>\n",
       "      <td>18.0</td>\n",
       "    </tr>\n",
       "    <tr>\n",
       "      <th>2</th>\n",
       "      <td>3</td>\n",
       "      <td>moscow, yukon territory, russia</td>\n",
       "      <td>NaN</td>\n",
       "    </tr>\n",
       "    <tr>\n",
       "      <th>3</th>\n",
       "      <td>4</td>\n",
       "      <td>porto, v.n.gaia, portugal</td>\n",
       "      <td>17.0</td>\n",
       "    </tr>\n",
       "    <tr>\n",
       "      <th>4</th>\n",
       "      <td>5</td>\n",
       "      <td>farnborough, hants, united kingdom</td>\n",
       "      <td>NaN</td>\n",
       "    </tr>\n",
       "  </tbody>\n",
       "</table>\n",
       "</div>"
      ],
      "text/plain": [
       "   User-ID                            Location   Age\n",
       "0        1                  nyc, new york, usa   NaN\n",
       "1        2           stockton, california, usa  18.0\n",
       "2        3     moscow, yukon territory, russia   NaN\n",
       "3        4           porto, v.n.gaia, portugal  17.0\n",
       "4        5  farnborough, hants, united kingdom   NaN"
      ]
     },
     "execution_count": 11,
     "metadata": {},
     "output_type": "execute_result"
    }
   ],
   "source": [
    "users = pd.read_csv('BX-Users.csv', delimiter=';', encoding = 'ISO-8859-1')\n",
    "users.head()"
   ]
  },
  {
   "cell_type": "code",
   "execution_count": 12,
   "metadata": {},
   "outputs": [],
   "source": [
    "interactions = interactions.merge(books[[\"ISBN\", \"Image-URL-M\", \"Book-Title\"]].rename(\n",
    "    columns={\"Image-URL-M\": \"picture_url\"}), on=[\"ISBN\"])"
   ]
  },
  {
   "cell_type": "code",
   "execution_count": 13,
   "metadata": {},
   "outputs": [],
   "source": [
    "from sklearn import preprocessing\n",
    "le = preprocessing.LabelEncoder()"
   ]
  },
  {
   "cell_type": "code",
   "execution_count": 14,
   "metadata": {},
   "outputs": [],
   "source": [
    "interactions[\"product_id\"] = le.fit_transform(interactions[\"ISBN\"])\n",
    "interactions[\"vid\"] = le.fit_transform(interactions[\"User-ID\"])"
   ]
  },
  {
   "cell_type": "code",
   "execution_count": 15,
   "metadata": {},
   "outputs": [
    {
     "data": {
      "text/html": [
       "<div>\n",
       "<style scoped>\n",
       "    .dataframe tbody tr th:only-of-type {\n",
       "        vertical-align: middle;\n",
       "    }\n",
       "\n",
       "    .dataframe tbody tr th {\n",
       "        vertical-align: top;\n",
       "    }\n",
       "\n",
       "    .dataframe thead th {\n",
       "        text-align: right;\n",
       "    }\n",
       "</style>\n",
       "<table border=\"1\" class=\"dataframe\">\n",
       "  <thead>\n",
       "    <tr style=\"text-align: right;\">\n",
       "      <th></th>\n",
       "      <th>User-ID</th>\n",
       "      <th>ISBN</th>\n",
       "      <th>Book-Rating</th>\n",
       "      <th>user_num</th>\n",
       "      <th>books_num</th>\n",
       "      <th>picture_url</th>\n",
       "      <th>Book-Title</th>\n",
       "      <th>product_id</th>\n",
       "      <th>vid</th>\n",
       "    </tr>\n",
       "  </thead>\n",
       "  <tbody>\n",
       "    <tr>\n",
       "      <th>0</th>\n",
       "      <td>86583</td>\n",
       "      <td>3404139178</td>\n",
       "      <td>9</td>\n",
       "      <td>8</td>\n",
       "      <td>18</td>\n",
       "      <td>http://images.amazon.com/images/P/3404139178.0...</td>\n",
       "      <td>Das Lacheln der Fortuna: Historischer Roman</td>\n",
       "      <td>10397</td>\n",
       "      <td>3445</td>\n",
       "    </tr>\n",
       "    <tr>\n",
       "      <th>1</th>\n",
       "      <td>132500</td>\n",
       "      <td>3404139178</td>\n",
       "      <td>10</td>\n",
       "      <td>8</td>\n",
       "      <td>43</td>\n",
       "      <td>http://images.amazon.com/images/P/3404139178.0...</td>\n",
       "      <td>Das Lacheln der Fortuna: Historischer Roman</td>\n",
       "      <td>10397</td>\n",
       "      <td>5248</td>\n",
       "    </tr>\n",
       "    <tr>\n",
       "      <th>2</th>\n",
       "      <td>66483</td>\n",
       "      <td>3404139178</td>\n",
       "      <td>10</td>\n",
       "      <td>8</td>\n",
       "      <td>83</td>\n",
       "      <td>http://images.amazon.com/images/P/3404139178.0...</td>\n",
       "      <td>Das Lacheln der Fortuna: Historischer Roman</td>\n",
       "      <td>10397</td>\n",
       "      <td>2622</td>\n",
       "    </tr>\n",
       "    <tr>\n",
       "      <th>3</th>\n",
       "      <td>276866</td>\n",
       "      <td>3404139178</td>\n",
       "      <td>9</td>\n",
       "      <td>8</td>\n",
       "      <td>11</td>\n",
       "      <td>http://images.amazon.com/images/P/3404139178.0...</td>\n",
       "      <td>Das Lacheln der Fortuna: Historischer Roman</td>\n",
       "      <td>10397</td>\n",
       "      <td>10887</td>\n",
       "    </tr>\n",
       "    <tr>\n",
       "      <th>4</th>\n",
       "      <td>106534</td>\n",
       "      <td>3404139178</td>\n",
       "      <td>6</td>\n",
       "      <td>8</td>\n",
       "      <td>6</td>\n",
       "      <td>http://images.amazon.com/images/P/3404139178.0...</td>\n",
       "      <td>Das Lacheln der Fortuna: Historischer Roman</td>\n",
       "      <td>10397</td>\n",
       "      <td>4228</td>\n",
       "    </tr>\n",
       "  </tbody>\n",
       "</table>\n",
       "</div>"
      ],
      "text/plain": [
       "   User-ID        ISBN  Book-Rating  user_num  books_num  \\\n",
       "0    86583  3404139178            9         8         18   \n",
       "1   132500  3404139178           10         8         43   \n",
       "2    66483  3404139178           10         8         83   \n",
       "3   276866  3404139178            9         8         11   \n",
       "4   106534  3404139178            6         8          6   \n",
       "\n",
       "                                         picture_url  \\\n",
       "0  http://images.amazon.com/images/P/3404139178.0...   \n",
       "1  http://images.amazon.com/images/P/3404139178.0...   \n",
       "2  http://images.amazon.com/images/P/3404139178.0...   \n",
       "3  http://images.amazon.com/images/P/3404139178.0...   \n",
       "4  http://images.amazon.com/images/P/3404139178.0...   \n",
       "\n",
       "                                    Book-Title  product_id    vid  \n",
       "0  Das Lacheln der Fortuna: Historischer Roman       10397   3445  \n",
       "1  Das Lacheln der Fortuna: Historischer Roman       10397   5248  \n",
       "2  Das Lacheln der Fortuna: Historischer Roman       10397   2622  \n",
       "3  Das Lacheln der Fortuna: Historischer Roman       10397  10887  \n",
       "4  Das Lacheln der Fortuna: Historischer Roman       10397   4228  "
      ]
     },
     "execution_count": 15,
     "metadata": {},
     "output_type": "execute_result"
    }
   ],
   "source": [
    "interactions.head()"
   ]
  },
  {
   "cell_type": "code",
   "execution_count": 16,
   "metadata": {},
   "outputs": [],
   "source": [
    "from scipy.sparse import coo_matrix\n",
    "csr_rates = coo_matrix((interactions[\"Book-Rating\"], (interactions[\"vid\"], interactions[\"product_id\"])), \n",
    "                            shape=(len(set(interactions[\"vid\"])), len(set(interactions[\"product_id\"]))))"
   ]
  },
  {
   "cell_type": "markdown",
   "metadata": {},
   "source": [
    "### Ищем id нужных книг"
   ]
  },
  {
   "cell_type": "code",
   "execution_count": null,
   "metadata": {},
   "outputs": [
    {
     "name": "stdout",
     "output_type": "stream",
     "text": [
      "idx: 10174 \tBook Title: David Copperfield (Wordsworth Classics)\n",
      "idx: 1074 \tBook Title: David Copperfield (Penguin Classics)\n"
     ]
    }
   ],
   "source": [
    "for i, j in interactions[[\"product_id\", \"Book-Title\"]].drop_duplicates().values:\n",
    "    if \"David Copperfield\" in j:\n",
    "        print(\"idx:\", i, \"\\tBook Title:\", j)"
   ]
  },
  {
   "cell_type": "markdown",
   "metadata": {},
   "source": [
    "### 1 персональный топ"
   ]
  },
  {
   "cell_type": "code",
   "execution_count": 17,
   "metadata": {},
   "outputs": [
    {
     "data": {
      "text/html": [
       "<div>\n",
       "<style scoped>\n",
       "    .dataframe tbody tr th:only-of-type {\n",
       "        vertical-align: middle;\n",
       "    }\n",
       "\n",
       "    .dataframe tbody tr th {\n",
       "        vertical-align: top;\n",
       "    }\n",
       "\n",
       "    .dataframe thead th {\n",
       "        text-align: right;\n",
       "    }\n",
       "</style>\n",
       "<table border=\"1\" class=\"dataframe\">\n",
       "  <thead>\n",
       "    <tr style=\"text-align: right;\">\n",
       "      <th></th>\n",
       "      <th>User-ID</th>\n",
       "      <th>ISBN</th>\n",
       "      <th>Book-Rating</th>\n",
       "      <th>user_num</th>\n",
       "      <th>books_num</th>\n",
       "      <th>picture_url</th>\n",
       "      <th>Book-Title</th>\n",
       "      <th>product_id</th>\n",
       "      <th>vid</th>\n",
       "    </tr>\n",
       "  </thead>\n",
       "  <tbody>\n",
       "    <tr>\n",
       "      <th>0</th>\n",
       "      <td>86583</td>\n",
       "      <td>3404139178</td>\n",
       "      <td>9</td>\n",
       "      <td>8</td>\n",
       "      <td>18</td>\n",
       "      <td>http://images.amazon.com/images/P/3404139178.0...</td>\n",
       "      <td>Das Lacheln der Fortuna: Historischer Roman</td>\n",
       "      <td>10397</td>\n",
       "      <td>3445</td>\n",
       "    </tr>\n",
       "    <tr>\n",
       "      <th>1</th>\n",
       "      <td>132500</td>\n",
       "      <td>3404139178</td>\n",
       "      <td>10</td>\n",
       "      <td>8</td>\n",
       "      <td>43</td>\n",
       "      <td>http://images.amazon.com/images/P/3404139178.0...</td>\n",
       "      <td>Das Lacheln der Fortuna: Historischer Roman</td>\n",
       "      <td>10397</td>\n",
       "      <td>5248</td>\n",
       "    </tr>\n",
       "    <tr>\n",
       "      <th>2</th>\n",
       "      <td>66483</td>\n",
       "      <td>3404139178</td>\n",
       "      <td>10</td>\n",
       "      <td>8</td>\n",
       "      <td>83</td>\n",
       "      <td>http://images.amazon.com/images/P/3404139178.0...</td>\n",
       "      <td>Das Lacheln der Fortuna: Historischer Roman</td>\n",
       "      <td>10397</td>\n",
       "      <td>2622</td>\n",
       "    </tr>\n",
       "    <tr>\n",
       "      <th>3</th>\n",
       "      <td>276866</td>\n",
       "      <td>3404139178</td>\n",
       "      <td>9</td>\n",
       "      <td>8</td>\n",
       "      <td>11</td>\n",
       "      <td>http://images.amazon.com/images/P/3404139178.0...</td>\n",
       "      <td>Das Lacheln der Fortuna: Historischer Roman</td>\n",
       "      <td>10397</td>\n",
       "      <td>10887</td>\n",
       "    </tr>\n",
       "    <tr>\n",
       "      <th>4</th>\n",
       "      <td>106534</td>\n",
       "      <td>3404139178</td>\n",
       "      <td>6</td>\n",
       "      <td>8</td>\n",
       "      <td>6</td>\n",
       "      <td>http://images.amazon.com/images/P/3404139178.0...</td>\n",
       "      <td>Das Lacheln der Fortuna: Historischer Roman</td>\n",
       "      <td>10397</td>\n",
       "      <td>4228</td>\n",
       "    </tr>\n",
       "  </tbody>\n",
       "</table>\n",
       "</div>"
      ],
      "text/plain": [
       "   User-ID        ISBN  Book-Rating  user_num  books_num  \\\n",
       "0    86583  3404139178            9         8         18   \n",
       "1   132500  3404139178           10         8         43   \n",
       "2    66483  3404139178           10         8         83   \n",
       "3   276866  3404139178            9         8         11   \n",
       "4   106534  3404139178            6         8          6   \n",
       "\n",
       "                                         picture_url  \\\n",
       "0  http://images.amazon.com/images/P/3404139178.0...   \n",
       "1  http://images.amazon.com/images/P/3404139178.0...   \n",
       "2  http://images.amazon.com/images/P/3404139178.0...   \n",
       "3  http://images.amazon.com/images/P/3404139178.0...   \n",
       "4  http://images.amazon.com/images/P/3404139178.0...   \n",
       "\n",
       "                                    Book-Title  product_id    vid  \n",
       "0  Das Lacheln der Fortuna: Historischer Roman       10397   3445  \n",
       "1  Das Lacheln der Fortuna: Historischer Roman       10397   5248  \n",
       "2  Das Lacheln der Fortuna: Historischer Roman       10397   2622  \n",
       "3  Das Lacheln der Fortuna: Historischer Roman       10397  10887  \n",
       "4  Das Lacheln der Fortuna: Historischer Roman       10397   4228  "
      ]
     },
     "execution_count": 17,
     "metadata": {},
     "output_type": "execute_result"
    }
   ],
   "source": [
    "interactions.head()"
   ]
  },
  {
   "cell_type": "code",
   "execution_count": 18,
   "metadata": {},
   "outputs": [
    {
     "data": {
      "text/html": [
       "<div>\n",
       "<style scoped>\n",
       "    .dataframe tbody tr th:only-of-type {\n",
       "        vertical-align: middle;\n",
       "    }\n",
       "\n",
       "    .dataframe tbody tr th {\n",
       "        vertical-align: top;\n",
       "    }\n",
       "\n",
       "    .dataframe thead th {\n",
       "        text-align: right;\n",
       "    }\n",
       "</style>\n",
       "<table border=\"1\" class=\"dataframe\">\n",
       "  <thead>\n",
       "    <tr style=\"text-align: right;\">\n",
       "      <th></th>\n",
       "      <th>User-ID</th>\n",
       "      <th>Location</th>\n",
       "      <th>Age</th>\n",
       "    </tr>\n",
       "  </thead>\n",
       "  <tbody>\n",
       "    <tr>\n",
       "      <th>0</th>\n",
       "      <td>1</td>\n",
       "      <td>nyc, new york, usa</td>\n",
       "      <td>NaN</td>\n",
       "    </tr>\n",
       "    <tr>\n",
       "      <th>1</th>\n",
       "      <td>2</td>\n",
       "      <td>stockton, california, usa</td>\n",
       "      <td>18.0</td>\n",
       "    </tr>\n",
       "    <tr>\n",
       "      <th>2</th>\n",
       "      <td>3</td>\n",
       "      <td>moscow, yukon territory, russia</td>\n",
       "      <td>NaN</td>\n",
       "    </tr>\n",
       "    <tr>\n",
       "      <th>3</th>\n",
       "      <td>4</td>\n",
       "      <td>porto, v.n.gaia, portugal</td>\n",
       "      <td>17.0</td>\n",
       "    </tr>\n",
       "    <tr>\n",
       "      <th>4</th>\n",
       "      <td>5</td>\n",
       "      <td>farnborough, hants, united kingdom</td>\n",
       "      <td>NaN</td>\n",
       "    </tr>\n",
       "  </tbody>\n",
       "</table>\n",
       "</div>"
      ],
      "text/plain": [
       "   User-ID                            Location   Age\n",
       "0        1                  nyc, new york, usa   NaN\n",
       "1        2           stockton, california, usa  18.0\n",
       "2        3     moscow, yukon territory, russia   NaN\n",
       "3        4           porto, v.n.gaia, portugal  17.0\n",
       "4        5  farnborough, hants, united kingdom   NaN"
      ]
     },
     "execution_count": 18,
     "metadata": {},
     "output_type": "execute_result"
    }
   ],
   "source": [
    "users.head()"
   ]
  },
  {
   "cell_type": "code",
   "execution_count": 19,
   "metadata": {},
   "outputs": [],
   "source": [
    "def chunks(l, n):\n",
    "    for i in range(0, len(l), n):\n",
    "        yield l[i:i + n]\n",
    "\n",
    "\n",
    "def rec_imaging(product_ids, content_dict, measure=None, top_n=5):\n",
    "    picture_urls = [content_dict[i] for i in product_ids]\n",
    "    cnt = 0\n",
    "    for idx, chunk in enumerate(chunks(picture_urls, top_n)):\n",
    "        fig = plt.figure(figsize=(20, 4))\n",
    "        for n, i in enumerate(chunk):\n",
    "            try:\n",
    "                r = requests.get(i)\n",
    "                im = Image.open(BytesIO(r.content))\n",
    "            except:\n",
    "                print('Something went wrong with {url}'.format(url=i))\n",
    "                continue\n",
    "\n",
    "            a = fig.add_subplot(1, top_n, n + 1)\n",
    "            if measure is not None:\n",
    "                a.title.set_text(\"measure = {}\".format(np.round(measure[cnt], 4)))\n",
    "                cnt += 1\n",
    "            plt.imshow(im)\n",
    "            plt.axis('off')\n",
    "        plt.show()"
   ]
  },
  {
   "cell_type": "code",
   "execution_count": 20,
   "metadata": {},
   "outputs": [],
   "source": [
    "from sklearn.preprocessing import KBinsDiscretizer\n",
    "\n",
    "class Personal():\n",
    "    def __init__(self, interactions, users):\n",
    "        self.books_mapping = interactions.loc[~interactions.duplicated(\"product_id\"), [\"product_id\", \"Book-Title\"]]\n",
    "        self.books_mapping = self.books_mapping.set_index(\"product_id\").to_dict()['Book-Title']\n",
    "        interactions = pd.merge(interactions, users, on=\"User-ID\")\n",
    "        self.location_recs = interactions.groupby([\"Location\", \"product_id\"])[\"Book-Rating\"].mean()\n",
    "        self.desc = KBinsDiscretizer(n_bins=10, encode=\"ordinal\")\n",
    "        self.nan_encode = interactions[\"Age\"].mean()\n",
    "        interactions[\"Age\"] = interactions[\"Age\"].fillna(self.nan_encode)\n",
    "        interactions.loc[:, \"Age\"] = self.desc.fit_transform(interactions[[\"Age\"]].values)[:, 0]\n",
    "        self.age_recs = interactions.groupby([\"Age\", \"product_id\"])[\"Book-Rating\"].mean()\n",
    "        self.general_recommenders = interactions.groupby(\"product_id\")[\"Book-Rating\"].mean().sort_values(ascending=False)\n",
    "\n",
    "    def encode_age(self, age):\n",
    "        if age is None:\n",
    "            age = self.nan_encode\n",
    "        return self.desc.transform(np.array([[age]]))[0, 0]\n",
    "\n",
    "    def get_age_recs(self, age, top_n):\n",
    "        initial_age = age\n",
    "        age = self.encode_age(age)\n",
    "        \n",
    "        if age in self.age_recs.index.get_level_values(0):\n",
    "            recs = self.age_recs.loc[age].sort_values(ascending=False)[:top_n]\n",
    "            recs = recs.index\n",
    "        else:\n",
    "            recs = self.general_recommenders[:top_n]\n",
    "            recs = recs.index\n",
    "\n",
    "        print(f\"Для возраста: {initial_age}, получены следующие рекомендации:\")\n",
    "        for rec in recs:\n",
    "            print(self.books_mapping[rec])\n",
    "\n",
    "    def get_loc_recs(self, loc, top_n):\n",
    "        if loc in self.location_recs.index.get_level_values(0):\n",
    "            recs = self.location_recs.loc[loc].sort_values(ascending=False)[:top_n]\n",
    "            recs = recs.index\n",
    "        else:\n",
    "            recs = self.general_recommenders[:top_n]\n",
    "            recs = recs.index\n",
    "\n",
    "        print(f\"Для локации: {loc}, получены следующие рекомендации:\")\n",
    "        for rec in recs:\n",
    "            print(self.books_mapping[rec])"
   ]
  },
  {
   "cell_type": "code",
   "execution_count": 21,
   "metadata": {},
   "outputs": [
    {
     "name": "stderr",
     "output_type": "stream",
     "text": [
      "/Users/21087699/work/myenv/lib/python3.9/site-packages/sklearn/preprocessing/_discretization.py:322: UserWarning: Bins whose width are too small (i.e., <= 1e-8) in feature 0 are removed. Consider decreasing the number of bins.\n",
      "  warnings.warn(\n"
     ]
    }
   ],
   "source": [
    "personal = Personal(interactions, users)"
   ]
  },
  {
   "cell_type": "code",
   "execution_count": 22,
   "metadata": {},
   "outputs": [
    {
     "name": "stdout",
     "output_type": "stream",
     "text": [
      "Для возраста: 10, получены следующие рекомендации:\n",
      "The Forgetting Room: A Fiction (Byzantium Book)\n",
      "Smith of Wootton Major and Farmer Giles of Ham\n",
      "On a Pale Horse (Incarnations of Immortality, Bk. 1)\n",
      "The White Dragon (Dragonriders of Pern Vol 3)\n",
      "Kate Vaiden\n",
      "LIFE, THE UNIVERSE AND EVERYTHING (Hitchhiker's Trilogy (Paperback))\n",
      "Web of Dreams (Casteel)\n",
      "Petals on the Wind (Dollanganger)\n",
      "Fallen Hearts (Casteel)\n",
      "LATE NIGHT WITH DAVID LETTERMAN BOOK OF TOP TEN LISTS\n"
     ]
    }
   ],
   "source": [
    "personal.get_age_recs(10, 10)"
   ]
  },
  {
   "cell_type": "code",
   "execution_count": 23,
   "metadata": {},
   "outputs": [
    {
     "name": "stdout",
     "output_type": "stream",
     "text": [
      "Для возраста: 33, получены следующие рекомендации:\n",
      "How the Grinch Stole Christmas!\n",
      "Swim With the Sharks: Without Being Eaten Alive : Outsell, Outmanage, Outmotivate, and Outnegotiate Your Competition\n",
      "Ramona the Pest (Ramona Quimby (Paperback))\n",
      "Briar Rose\n",
      "The Onion Girl (Newford)\n",
      "Between the Sheets (Harlequin Blaze, 90)\n",
      "The Covenant (Abram's Daughters)\n",
      "The Maze\n",
      "The Sweetest Taboo (Harlequin Blaze, 68)\n",
      "The Darkangel: The Darkangel Trilogy, Volume I\n"
     ]
    }
   ],
   "source": [
    "personal.get_age_recs(33, 10)"
   ]
  },
  {
   "cell_type": "code",
   "execution_count": 24,
   "metadata": {},
   "outputs": [
    {
     "name": "stdout",
     "output_type": "stream",
     "text": [
      "Для возраста: None, получены следующие рекомендации:\n",
      "More Scary Stories To Tell In The Dark\n",
      "Fugitive Pieces\n",
      "The House at Pooh Corner\n",
      "Winnie-The-Pooh\n",
      "Guardian Angel\n",
      "Adventures in a TV Nation\n",
      "Les Fleurs Du Mal\n",
      "Angels &amp; Demons\n",
      "The Power of Myth (Illustrated Edition)\n",
      "Thinner\n"
     ]
    }
   ],
   "source": [
    "personal.get_age_recs(None, 10)"
   ]
  },
  {
   "cell_type": "code",
   "execution_count": 25,
   "metadata": {},
   "outputs": [
    {
     "name": "stdout",
     "output_type": "stream",
     "text": [
      "Для локации: usa, получены следующие рекомендации:\n",
      "Wizard and Glass (The Dark Tower, Book 4)\n",
      "Charlie and the Chocolate Factory\n",
      "Der Vater Eines Morders\n",
      "Before I Say Goodbye\n",
      "A Dog Year: Twelve Months, Four Dogs, and Me\n",
      "More Than Complete Hitchhiker's Guide: Complete &amp; Unabridged\n",
      "Irish Whiskey: A Nuala Anne McGrail Novel (Nuala Anne McGrail Novels (Paperback))\n",
      "Shrub: The Short but Happy Political Life of George W. Bush\n",
      "Captain's Verses (New Directions Paperbook)\n",
      "Wolves of Willoughby Chase (Wolves Chronicles)\n"
     ]
    }
   ],
   "source": [
    "personal.get_loc_recs(\"usa\", 10)"
   ]
  },
  {
   "cell_type": "code",
   "execution_count": 26,
   "metadata": {},
   "outputs": [
    {
     "name": "stdout",
     "output_type": "stream",
     "text": [
      "Для локации: nyc, new york, usa, получены следующие рекомендации:\n",
      "Cunt: A Declaration of Independence (Live Girls Series)\n",
      "The Outsiders\n",
      "Three Junes\n",
      "Wish You Were Here\n",
      "Random Family: Love, Drugs, Trouble, and Coming of Age in the Bronx\n",
      "Dude, Where's My Country?\n",
      "Stupid White Men ...and Other Sorry Excuses for the State of the Nation!\n",
      "Harriet the Spy\n",
      "The Eagle and the Rose : A Remarkable True Story\n",
      "Riding the Bus with My Sister: A True Life Journey\n"
     ]
    }
   ],
   "source": [
    "personal.get_loc_recs(\"nyc, new york, usa\", 10)"
   ]
  },
  {
   "cell_type": "markdown",
   "metadata": {},
   "source": [
    "### 2 на основе метода кластеризации"
   ]
  },
  {
   "cell_type": "code",
   "execution_count": 27,
   "metadata": {},
   "outputs": [
    {
     "data": {
      "text/html": [
       "<div>\n",
       "<style scoped>\n",
       "    .dataframe tbody tr th:only-of-type {\n",
       "        vertical-align: middle;\n",
       "    }\n",
       "\n",
       "    .dataframe tbody tr th {\n",
       "        vertical-align: top;\n",
       "    }\n",
       "\n",
       "    .dataframe thead th {\n",
       "        text-align: right;\n",
       "    }\n",
       "</style>\n",
       "<table border=\"1\" class=\"dataframe\">\n",
       "  <thead>\n",
       "    <tr style=\"text-align: right;\">\n",
       "      <th></th>\n",
       "      <th>User-ID</th>\n",
       "      <th>ISBN</th>\n",
       "      <th>Book-Rating</th>\n",
       "      <th>user_num</th>\n",
       "      <th>books_num</th>\n",
       "      <th>picture_url</th>\n",
       "      <th>Book-Title</th>\n",
       "      <th>product_id</th>\n",
       "      <th>vid</th>\n",
       "    </tr>\n",
       "  </thead>\n",
       "  <tbody>\n",
       "    <tr>\n",
       "      <th>0</th>\n",
       "      <td>86583</td>\n",
       "      <td>3404139178</td>\n",
       "      <td>9</td>\n",
       "      <td>8</td>\n",
       "      <td>18</td>\n",
       "      <td>http://images.amazon.com/images/P/3404139178.0...</td>\n",
       "      <td>Das Lacheln der Fortuna: Historischer Roman</td>\n",
       "      <td>10397</td>\n",
       "      <td>3445</td>\n",
       "    </tr>\n",
       "    <tr>\n",
       "      <th>1</th>\n",
       "      <td>132500</td>\n",
       "      <td>3404139178</td>\n",
       "      <td>10</td>\n",
       "      <td>8</td>\n",
       "      <td>43</td>\n",
       "      <td>http://images.amazon.com/images/P/3404139178.0...</td>\n",
       "      <td>Das Lacheln der Fortuna: Historischer Roman</td>\n",
       "      <td>10397</td>\n",
       "      <td>5248</td>\n",
       "    </tr>\n",
       "    <tr>\n",
       "      <th>2</th>\n",
       "      <td>66483</td>\n",
       "      <td>3404139178</td>\n",
       "      <td>10</td>\n",
       "      <td>8</td>\n",
       "      <td>83</td>\n",
       "      <td>http://images.amazon.com/images/P/3404139178.0...</td>\n",
       "      <td>Das Lacheln der Fortuna: Historischer Roman</td>\n",
       "      <td>10397</td>\n",
       "      <td>2622</td>\n",
       "    </tr>\n",
       "    <tr>\n",
       "      <th>3</th>\n",
       "      <td>276866</td>\n",
       "      <td>3404139178</td>\n",
       "      <td>9</td>\n",
       "      <td>8</td>\n",
       "      <td>11</td>\n",
       "      <td>http://images.amazon.com/images/P/3404139178.0...</td>\n",
       "      <td>Das Lacheln der Fortuna: Historischer Roman</td>\n",
       "      <td>10397</td>\n",
       "      <td>10887</td>\n",
       "    </tr>\n",
       "    <tr>\n",
       "      <th>4</th>\n",
       "      <td>106534</td>\n",
       "      <td>3404139178</td>\n",
       "      <td>6</td>\n",
       "      <td>8</td>\n",
       "      <td>6</td>\n",
       "      <td>http://images.amazon.com/images/P/3404139178.0...</td>\n",
       "      <td>Das Lacheln der Fortuna: Historischer Roman</td>\n",
       "      <td>10397</td>\n",
       "      <td>4228</td>\n",
       "    </tr>\n",
       "  </tbody>\n",
       "</table>\n",
       "</div>"
      ],
      "text/plain": [
       "   User-ID        ISBN  Book-Rating  user_num  books_num  \\\n",
       "0    86583  3404139178            9         8         18   \n",
       "1   132500  3404139178           10         8         43   \n",
       "2    66483  3404139178           10         8         83   \n",
       "3   276866  3404139178            9         8         11   \n",
       "4   106534  3404139178            6         8          6   \n",
       "\n",
       "                                         picture_url  \\\n",
       "0  http://images.amazon.com/images/P/3404139178.0...   \n",
       "1  http://images.amazon.com/images/P/3404139178.0...   \n",
       "2  http://images.amazon.com/images/P/3404139178.0...   \n",
       "3  http://images.amazon.com/images/P/3404139178.0...   \n",
       "4  http://images.amazon.com/images/P/3404139178.0...   \n",
       "\n",
       "                                    Book-Title  product_id    vid  \n",
       "0  Das Lacheln der Fortuna: Historischer Roman       10397   3445  \n",
       "1  Das Lacheln der Fortuna: Historischer Roman       10397   5248  \n",
       "2  Das Lacheln der Fortuna: Historischer Roman       10397   2622  \n",
       "3  Das Lacheln der Fortuna: Historischer Roman       10397  10887  \n",
       "4  Das Lacheln der Fortuna: Historischer Roman       10397   4228  "
      ]
     },
     "execution_count": 27,
     "metadata": {},
     "output_type": "execute_result"
    }
   ],
   "source": [
    "interactions.head()"
   ]
  },
  {
   "cell_type": "code",
   "execution_count": 28,
   "metadata": {},
   "outputs": [
    {
     "name": "stdout",
     "output_type": "stream",
     "text": [
      "0.6056820309830838\n"
     ]
    },
    {
     "name": "stderr",
     "output_type": "stream",
     "text": [
      "100%|██████████| 28/28 [01:26<00:00,  3.07s/it]\n"
     ]
    },
    {
     "data": {
      "text/plain": [
       "[<matplotlib.lines.Line2D at 0x1550c3bb0>]"
      ]
     },
     "execution_count": 28,
     "metadata": {},
     "output_type": "execute_result"
    },
    {
     "data": {
      "image/png": "[encoded data removed]",
      "text/plain": [
       "<Figure size 640x480 with 1 Axes>"
      ]
     },
     "metadata": {},
     "output_type": "display_data"
    }
   ],
   "source": [
    "### Посчитаем количество кластеров\n",
    "\n",
    "\n",
    "interactions_cluster = coo_array((interactions[\"Book-Rating\"], (interactions.vid, interactions.product_id)))\n",
    "\n",
    "decomp = TruncatedSVD(1000) \n",
    "interactions_cluster = decomp.fit_transform(interactions_cluster)\n",
    "print(decomp.explained_variance_ratio_.sum())\n",
    "res = []\n",
    "for n_cluster in tqdm(range(2, 30)):\n",
    "    algo = KMeans(n_clusters=n_cluster, n_init=10)\n",
    "    algo.fit(interactions_cluster)\n",
    "    res.append(algo.inertia_)\n",
    "\n",
    "plt.plot(np.arange(2, 30), res)"
   ]
  },
  {
   "cell_type": "code",
   "execution_count": null,
   "metadata": {},
   "outputs": [],
   "source": [
    "# можно сделать вывод, что данные довольно равномерны, во всяком случае для кластеризации\n",
    "# KMeans. Тогда сделаем количество кластеров == 60"
   ]
  },
  {
   "cell_type": "code",
   "execution_count": 29,
   "metadata": {},
   "outputs": [
    {
     "data": {
      "text/plain": [
       "array([ 5.10373527,  5.87130196, 10.48985935, 10.98589401, 10.43869724,\n",
       "       10.86965552, 10.36626614,  9.61889637, 10.97379536, 10.78685602,\n",
       "       10.38648944, 11.14311244, 10.65039035,  9.91898333, 10.30820228,\n",
       "        6.97982112, 11.36177552,  8.55448337,  0.17352072,  3.48109194,\n",
       "       10.32013587,  7.8078035 ,  7.67088302, 10.68842368, 11.02276398,\n",
       "       10.97371165, 10.93657611, 11.07753698, 10.90446294])"
      ]
     },
     "execution_count": 29,
     "metadata": {},
     "output_type": "execute_result"
    }
   ],
   "source": [
    "### Видим, что большинство кластеров, имеют правильные границы\n",
    "### предсказания\n",
    "decomp.inverse_transform(algo.cluster_centers_).max(axis=1)"
   ]
  },
  {
   "cell_type": "code",
   "execution_count": 30,
   "metadata": {},
   "outputs": [
    {
     "data": {
      "text/plain": [
       "array([-0.08197951, -0.01079233, -0.23512954, -0.46396775, -0.45970322,\n",
       "       -0.54109002, -0.71427168, -0.67708233, -0.73535104, -0.41822227,\n",
       "       -0.38705741, -0.54495503, -0.47181611, -0.4969533 , -0.60443398,\n",
       "       -0.08374144, -0.64474836, -0.01819939, -0.0012838 , -0.07816658,\n",
       "       -0.78528502, -0.03994791, -0.02236266, -0.28165455, -0.57524327,\n",
       "       -0.54956953, -0.88749506, -0.62627904, -0.35315367])"
      ]
     },
     "execution_count": 30,
     "metadata": {},
     "output_type": "execute_result"
    }
   ],
   "source": [
    "decomp.inverse_transform(algo.cluster_centers_).min(axis=1)"
   ]
  },
  {
   "cell_type": "code",
   "execution_count": 32,
   "metadata": {},
   "outputs": [],
   "source": [
    "class ClusterRecs:\n",
    "    def __init__(self, interactions, users, n_clusters=70):\n",
    "        self.books_mapping = interactions.loc[~interactions.duplicated(\"product_id\"), [\"product_id\", \"Book-Title\"]]\n",
    "        self.books_mapping = self.books_mapping.set_index(\"product_id\").to_dict()['Book-Title']\n",
    "\n",
    "        # можем так сделать, пушо закодировали OrdinalEncoder-ом, \n",
    "        interactions_cluster = coo_array((interactions[\"Book-Rating\"], (interactions.vid, interactions.product_id)))\n",
    "        self.decomp = TruncatedSVD(1000)\n",
    "        interactions_cluster = self.decomp.fit_transform(interactions_cluster)\n",
    "        self.algo = KMeans(n_clusters=n_clusters, n_init=10)\n",
    "        self.algo.fit(interactions_cluster)\n",
    "        means = self.decomp.inverse_transform(self.algo.cluster_centers_)\n",
    "        self.recs = np.argsort(-means)\n",
    "\n",
    "    def get_recs(self, books_read, top_n):\n",
    "        user_encode = books_read\n",
    "        # можем получить на вход - дикт {книга: рейтинг}\n",
    "        if type(books_read) == dict:\n",
    "            user_encode = np.zeros(len(self.books_mapping))\n",
    "            for book, rating in books_read.items():\n",
    "                user_encode[book] = rating\n",
    "\n",
    "        cluster_idx = self.algo.predict(self.decomp.transform(user_encode[np.newaxis, :]))[0]\n",
    "        recs = self.recs[cluster_idx][:top_n]\n",
    "        print(\"Для пользователя с книгами : \\n\",\n",
    "            \", \".join([\n",
    "                self.books_mapping[book_idx] for book_idx in books_read.keys()\n",
    "            ]),\n",
    "            \"\\nполучены следующие рекомендации:\"\n",
    "        )\n",
    "        for rec in recs:\n",
    "            print(self.books_mapping[rec])"
   ]
  },
  {
   "cell_type": "code",
   "execution_count": 33,
   "metadata": {},
   "outputs": [],
   "source": [
    "rec = ClusterRecs(interactions, users)"
   ]
  },
  {
   "cell_type": "code",
   "execution_count": 34,
   "metadata": {},
   "outputs": [
    {
     "name": "stdout",
     "output_type": "stream",
     "text": [
      "Для пользователя с книгами : \n",
      " The Forgetting Room: A Fiction (Byzantium Book), 253, Merry Christmas, Amelia Bedelia (I Can Read Book 2) \n",
      "получены следующие рекомендации:\n",
      "The Secret Life of Bees\n",
      "Interview with the Vampire\n",
      "Angels &amp; Demons\n",
      "Where the Heart Is (Oprah's Book Club (Paperback))\n",
      "Life of Pi\n",
      "Wild Animus\n",
      "A Painted House\n",
      "To Kill a Mockingbird\n",
      "Girl with a Pearl Earring\n",
      "Jurassic Park\n"
     ]
    }
   ],
   "source": [
    "rec.get_recs({1: 10, 10: 1, 100: 3}, 10)"
   ]
  },
  {
   "cell_type": "code",
   "execution_count": 35,
   "metadata": {},
   "outputs": [],
   "source": [
    "def get_user_books(vid):\n",
    "    return interactions[interactions[\"vid\"] == vid].set_index(\"product_id\")[\"Book-Rating\"].to_dict()"
   ]
  },
  {
   "cell_type": "code",
   "execution_count": 36,
   "metadata": {},
   "outputs": [
    {
     "name": "stdout",
     "output_type": "stream",
     "text": [
      "Для пользователя с книгами : \n",
      " Angels &amp; Demons, The Beach House, The Alibi, The Short Forever, Dead Aim, A Kiss Remembered \n",
      "получены следующие рекомендации:\n",
      "The Secret Life of Bees\n",
      "Interview with the Vampire\n",
      "Angels &amp; Demons\n",
      "Where the Heart Is (Oprah's Book Club (Paperback))\n",
      "Life of Pi\n",
      "Wild Animus\n",
      "A Painted House\n",
      "To Kill a Mockingbird\n",
      "Girl with a Pearl Earring\n",
      "Jurassic Park\n"
     ]
    }
   ],
   "source": [
    "# есть совпадение!\n",
    "rec.get_recs(get_user_books(2), 10)"
   ]
  },
  {
   "cell_type": "code",
   "execution_count": 37,
   "metadata": {},
   "outputs": [
    {
     "name": "stdout",
     "output_type": "stream",
     "text": [
      "Для пользователя с книгами : \n",
      " The Secret Life of Bees, Harry Potter and the Chamber of Secrets (Book 2), Making Minty Malone, Harry Potter and the Goblet of Fire (Book 4), Harry Potter and the Sorcerer's Stone (Book 1), She's Come Undone (Oprah's Book Club), Smoke and Mirrors: Short Fictions and Illusions, Harry Potter and the Prisoner of Azkaban (Book 3), The Bonesetter's Daughter, American Gods, Animal Farm, Harry Potter and the Chamber of Secrets (Book 2), The Hobbit: or There and Back Again, The Lion, the Witch, and the Wardrobe (The Chronicles of Narnia, Book 2), The Fellowship of the Ring (The Lord of the Rings, Part 1), Amazing Grace : Lives of Children and the Conscience of a Nation, The, The Golden Compass (His Dark Materials, Book 1), Harry Potter and the Prisoner of Azkaban (Book 3), The Dark Half, 1984, The Golden Compass (His Dark Materials, Book 1), Sandman: The Dream Hunters, American Gods: A Novel, Neverwhere, Something Wicked This Way Comes, The Adrian Mole Diaries : The Secret Diary of Adrian Mole, Aged 13 3/4 : The Growing Pains of Adrian Mole, Familiar Lullaby (Fear Familiar) (Harlequin Intrigue, No 614), Complete Chronicles of Narnia, Stardust, The Duke \n",
      "получены следующие рекомендации:\n",
      "Harry Potter and the Sorcerer's Stone (Harry Potter (Paperback))\n",
      "Harry Potter and the Goblet of Fire (Book 4)\n",
      "Harry Potter and the Prisoner of Azkaban (Book 3)\n",
      "Harry Potter and the Order of the Phoenix (Book 5)\n",
      "Harry Potter and the Chamber of Secrets (Book 2)\n",
      "Harry Potter and the Chamber of Secrets (Book 2)\n",
      "Harry Potter and the Prisoner of Azkaban (Book 3)\n",
      "Harry Potter and the Sorcerer's Stone (Book 1)\n",
      "Harry Potter and the Goblet of Fire (Book 4)\n",
      "The Hobbit : The Enchanting Prelude to The Lord of the Rings\n"
     ]
    }
   ],
   "source": [
    "# Ну фанатов гарри поттера видно из далека.\n",
    "rec.get_recs(get_user_books(6), 10)"
   ]
  },
  {
   "cell_type": "markdown",
   "metadata": {},
   "source": [
    "### Совстречаемость"
   ]
  },
  {
   "cell_type": "code",
   "execution_count": 47,
   "metadata": {},
   "outputs": [
    {
     "data": {
      "text/html": [
       "<div>\n",
       "<style scoped>\n",
       "    .dataframe tbody tr th:only-of-type {\n",
       "        vertical-align: middle;\n",
       "    }\n",
       "\n",
       "    .dataframe tbody tr th {\n",
       "        vertical-align: top;\n",
       "    }\n",
       "\n",
       "    .dataframe thead th {\n",
       "        text-align: right;\n",
       "    }\n",
       "</style>\n",
       "<table border=\"1\" class=\"dataframe\">\n",
       "  <thead>\n",
       "    <tr style=\"text-align: right;\">\n",
       "      <th></th>\n",
       "      <th>User-ID</th>\n",
       "      <th>ISBN</th>\n",
       "      <th>Book-Rating</th>\n",
       "      <th>user_num</th>\n",
       "      <th>books_num</th>\n",
       "      <th>picture_url</th>\n",
       "      <th>Book-Title</th>\n",
       "      <th>product_id</th>\n",
       "      <th>vid</th>\n",
       "    </tr>\n",
       "  </thead>\n",
       "  <tbody>\n",
       "    <tr>\n",
       "      <th>0</th>\n",
       "      <td>86583</td>\n",
       "      <td>3404139178</td>\n",
       "      <td>9</td>\n",
       "      <td>8</td>\n",
       "      <td>18</td>\n",
       "      <td>http://images.amazon.com/images/P/3404139178.0...</td>\n",
       "      <td>Das Lacheln der Fortuna: Historischer Roman</td>\n",
       "      <td>10397</td>\n",
       "      <td>3445</td>\n",
       "    </tr>\n",
       "    <tr>\n",
       "      <th>1</th>\n",
       "      <td>132500</td>\n",
       "      <td>3404139178</td>\n",
       "      <td>10</td>\n",
       "      <td>8</td>\n",
       "      <td>43</td>\n",
       "      <td>http://images.amazon.com/images/P/3404139178.0...</td>\n",
       "      <td>Das Lacheln der Fortuna: Historischer Roman</td>\n",
       "      <td>10397</td>\n",
       "      <td>5248</td>\n",
       "    </tr>\n",
       "    <tr>\n",
       "      <th>2</th>\n",
       "      <td>66483</td>\n",
       "      <td>3404139178</td>\n",
       "      <td>10</td>\n",
       "      <td>8</td>\n",
       "      <td>83</td>\n",
       "      <td>http://images.amazon.com/images/P/3404139178.0...</td>\n",
       "      <td>Das Lacheln der Fortuna: Historischer Roman</td>\n",
       "      <td>10397</td>\n",
       "      <td>2622</td>\n",
       "    </tr>\n",
       "    <tr>\n",
       "      <th>3</th>\n",
       "      <td>276866</td>\n",
       "      <td>3404139178</td>\n",
       "      <td>9</td>\n",
       "      <td>8</td>\n",
       "      <td>11</td>\n",
       "      <td>http://images.amazon.com/images/P/3404139178.0...</td>\n",
       "      <td>Das Lacheln der Fortuna: Historischer Roman</td>\n",
       "      <td>10397</td>\n",
       "      <td>10887</td>\n",
       "    </tr>\n",
       "    <tr>\n",
       "      <th>4</th>\n",
       "      <td>106534</td>\n",
       "      <td>3404139178</td>\n",
       "      <td>6</td>\n",
       "      <td>8</td>\n",
       "      <td>6</td>\n",
       "      <td>http://images.amazon.com/images/P/3404139178.0...</td>\n",
       "      <td>Das Lacheln der Fortuna: Historischer Roman</td>\n",
       "      <td>10397</td>\n",
       "      <td>4228</td>\n",
       "    </tr>\n",
       "    <tr>\n",
       "      <th>...</th>\n",
       "      <td>...</td>\n",
       "      <td>...</td>\n",
       "      <td>...</td>\n",
       "      <td>...</td>\n",
       "      <td>...</td>\n",
       "      <td>...</td>\n",
       "      <td>...</td>\n",
       "      <td>...</td>\n",
       "      <td>...</td>\n",
       "    </tr>\n",
       "    <tr>\n",
       "      <th>110514</th>\n",
       "      <td>27551</td>\n",
       "      <td>0849912970</td>\n",
       "      <td>10</td>\n",
       "      <td>6</td>\n",
       "      <td>6</td>\n",
       "      <td>http://images.amazon.com/images/P/0849912970.0...</td>\n",
       "      <td>Traveling Light: Releasing the Burdens You Wer...</td>\n",
       "      <td>9478</td>\n",
       "      <td>1035</td>\n",
       "    </tr>\n",
       "    <tr>\n",
       "      <th>110515</th>\n",
       "      <td>206652</td>\n",
       "      <td>1860465811</td>\n",
       "      <td>9</td>\n",
       "      <td>8</td>\n",
       "      <td>10</td>\n",
       "      <td>http://images.amazon.com/images/P/1860465811.0...</td>\n",
       "      <td>Wind-Up Bird Chronicle</td>\n",
       "      <td>10209</td>\n",
       "      <td>8112</td>\n",
       "    </tr>\n",
       "    <tr>\n",
       "      <th>110516</th>\n",
       "      <td>223525</td>\n",
       "      <td>1588720284</td>\n",
       "      <td>8</td>\n",
       "      <td>6</td>\n",
       "      <td>13</td>\n",
       "      <td>http://images.amazon.com/images/P/1588720284.0...</td>\n",
       "      <td>Why Your Life Sucks:  And What You Can Do Abou...</td>\n",
       "      <td>10138</td>\n",
       "      <td>8754</td>\n",
       "    </tr>\n",
       "    <tr>\n",
       "      <th>110517</th>\n",
       "      <td>94153</td>\n",
       "      <td>0060652926</td>\n",
       "      <td>9</td>\n",
       "      <td>7</td>\n",
       "      <td>14</td>\n",
       "      <td>http://images.amazon.com/images/P/0060652926.0...</td>\n",
       "      <td>Mere Christianity</td>\n",
       "      <td>276</td>\n",
       "      <td>3740</td>\n",
       "    </tr>\n",
       "    <tr>\n",
       "      <th>110518</th>\n",
       "      <td>74782</td>\n",
       "      <td>0868246786</td>\n",
       "      <td>8</td>\n",
       "      <td>7</td>\n",
       "      <td>10</td>\n",
       "      <td>http://images.amazon.com/images/P/0868246786.0...</td>\n",
       "      <td>Zigzag Street ;</td>\n",
       "      <td>9496</td>\n",
       "      <td>2964</td>\n",
       "    </tr>\n",
       "  </tbody>\n",
       "</table>\n",
       "<p>110519 rows × 9 columns</p>\n",
       "</div>"
      ],
      "text/plain": [
       "        User-ID        ISBN  Book-Rating  user_num  books_num  \\\n",
       "0         86583  3404139178            9         8         18   \n",
       "1        132500  3404139178           10         8         43   \n",
       "2         66483  3404139178           10         8         83   \n",
       "3        276866  3404139178            9         8         11   \n",
       "4        106534  3404139178            6         8          6   \n",
       "...         ...         ...          ...       ...        ...   \n",
       "110514    27551  0849912970           10         6          6   \n",
       "110515   206652  1860465811            9         8         10   \n",
       "110516   223525  1588720284            8         6         13   \n",
       "110517    94153  0060652926            9         7         14   \n",
       "110518    74782  0868246786            8         7         10   \n",
       "\n",
       "                                              picture_url  \\\n",
       "0       http://images.amazon.com/images/P/3404139178.0...   \n",
       "1       http://images.amazon.com/images/P/3404139178.0...   \n",
       "2       http://images.amazon.com/images/P/3404139178.0...   \n",
       "3       http://images.amazon.com/images/P/3404139178.0...   \n",
       "4       http://images.amazon.com/images/P/3404139178.0...   \n",
       "...                                                   ...   \n",
       "110514  http://images.amazon.com/images/P/0849912970.0...   \n",
       "110515  http://images.amazon.com/images/P/1860465811.0...   \n",
       "110516  http://images.amazon.com/images/P/1588720284.0...   \n",
       "110517  http://images.amazon.com/images/P/0060652926.0...   \n",
       "110518  http://images.amazon.com/images/P/0868246786.0...   \n",
       "\n",
       "                                               Book-Title  product_id    vid  \n",
       "0             Das Lacheln der Fortuna: Historischer Roman       10397   3445  \n",
       "1             Das Lacheln der Fortuna: Historischer Roman       10397   5248  \n",
       "2             Das Lacheln der Fortuna: Historischer Roman       10397   2622  \n",
       "3             Das Lacheln der Fortuna: Historischer Roman       10397  10887  \n",
       "4             Das Lacheln der Fortuna: Historischer Roman       10397   4228  \n",
       "...                                                   ...         ...    ...  \n",
       "110514  Traveling Light: Releasing the Burdens You Wer...        9478   1035  \n",
       "110515                             Wind-Up Bird Chronicle       10209   8112  \n",
       "110516  Why Your Life Sucks:  And What You Can Do Abou...       10138   8754  \n",
       "110517                                  Mere Christianity         276   3740  \n",
       "110518                                    Zigzag Street ;        9496   2964  \n",
       "\n",
       "[110519 rows x 9 columns]"
      ]
     },
     "execution_count": 47,
     "metadata": {},
     "output_type": "execute_result"
    }
   ],
   "source": [
    "interactions"
   ]
  },
  {
   "cell_type": "code",
   "execution_count": 70,
   "metadata": {},
   "outputs": [],
   "source": [
    "from collections import defaultdict\n",
    "from itertools import islice\n",
    "\n",
    "\n",
    "class Coocurancy():\n",
    "    def __init__(self, interactions):\n",
    "        # Создаём словарь для того, чтобы по product_id возвращать url товара\n",
    "        self.books_mapping = interactions.loc[~interactions.duplicated(\"product_id\"), [\"product_id\", \"Book-Title\"]]\n",
    "        self.books_mapping = self.books_mapping.set_index(\"product_id\").to_dict()['Book-Title']\n",
    "\n",
    "        # Для каждого пользователя собираем товары, с которыми он взамиодействовал\n",
    "        cooc_df = interactions[[\"vid\", \"product_id\", \"Book-Rating\"]].drop_duplicates().set_index(\"vid\")\n",
    "        cooc = defaultdict(lambda :defaultdict(lambda :0))\n",
    "        cooc_size = defaultdict(lambda :defaultdict(lambda :0))\n",
    "\n",
    "        for user in tqdm(cooc_df.index.unique()):\n",
    "            books = cooc_df[cooc_df.index == user]\n",
    "            for idx, (_, j) in enumerate(books[:-1].iterrows()):\n",
    "                for _, k in books[idx+1:].iterrows():\n",
    "                    val = (j[\"Book-Rating\"] + k[\"Book-Rating\"]) / 2\n",
    "                    cooc[j[\"product_id\"]][k[\"product_id\"]] += val\n",
    "                    cooc[k[\"product_id\"]][j[\"product_id\"]] += val\n",
    "                    cooc_size[j[\"product_id\"]][k[\"product_id\"]] += 1\n",
    "                    cooc_size[k[\"product_id\"]][j[\"product_id\"]] += 1\n",
    "\n",
    "        # получим массивы и нормализуем их\n",
    "        cooc = dict(cooc)\n",
    "        for key_ in list(cooc.keys()):\n",
    "            keys = []\n",
    "            values = []\n",
    "            for key, val in cooc[key_].items():\n",
    "                keys.append(key)\n",
    "                values.append(val / cooc_size[key_][key])\n",
    "            \n",
    "            keys = np.array(keys)\n",
    "            values = np.array(values)\n",
    "            vals_sort = np.argsort(-values)\n",
    "            cooc[key_] = (keys[vals_sort], values[vals_sort])\n",
    "        self.cooc = cooc\n",
    "    \n",
    "    def get_rec(self, i, top_n=10):\n",
    "        print(f\"Для книги : {self.books_mapping[i]}\\n\",\n",
    "            \"получены следующие рекомендации:\"\n",
    "        )\n",
    "        for rec, dist in islice(zip(*self.cooc[i]), top_n):\n",
    "            print(f\"book: {self.books_mapping[rec]}, dist: {dist}\")"
   ]
  },
  {
   "cell_type": "code",
   "execution_count": 85,
   "metadata": {},
   "outputs": [
    {
     "name": "stderr",
     "output_type": "stream",
     "text": [
      "100%|██████████| 10960/10960 [01:46<00:00, 102.59it/s] \n"
     ]
    }
   ],
   "source": [
    "cooc = Coocurancy(interactions)"
   ]
  },
  {
   "cell_type": "code",
   "execution_count": 96,
   "metadata": {},
   "outputs": [
    {
     "name": "stdout",
     "output_type": "stream",
     "text": [
      "num_coocurances: 188\n",
      "возможных пересечений книг о гарриоттере: 625\n",
      "средняя оценка взаимодействия HP: 9.415826682257673\n"
     ]
    }
   ],
   "source": [
    "# получим продукт айди гаррипотера\n",
    "harry_ids = interactions[interactions[\"Book-Title\"].str.contains(\"Harry Potter\")].product_id.unique()\n",
    "\n",
    "hp_dist = []\n",
    "for harry_book in harry_ids:\n",
    "    for book, rating in zip(*cooc.cooc[harry_book]):\n",
    "        if book in harry_ids:\n",
    "            hp_dist.append(rating)\n",
    "\n",
    "print(f\"num_coocurances: {len(hp_dist)}\")     \n",
    "print(f\"возможных пересечений книг о гарриоттере: {len(harry_ids) ** 2}\")  \n",
    "### Кто то из юзеров не прочитал всю серию...\n",
    "print(f\"средняя оценка взаимодействия HP: {sum(hp_dist) / len(hp_dist)}\")       "
   ]
  },
  {
   "cell_type": "code",
   "execution_count": 97,
   "metadata": {},
   "outputs": [
    {
     "name": "stdout",
     "output_type": "stream",
     "text": [
      "Для книги : The Forgetting Room: A Fiction (Byzantium Book)\n",
      " получены следующие рекомендации:\n",
      "book: The Five People You Meet in Heaven, dist: 10.0\n",
      "book: Harry Potter and the Prisoner of Azkaban (Book 3), dist: 10.0\n",
      "book: Harry Potter and the Goblet of Fire (Book 4), dist: 10.0\n",
      "book: Harry Potter and the Chamber of Secrets (Book 2), dist: 10.0\n",
      "book: You Can Heal Your Life/101, dist: 10.0\n",
      "book: Falling Angels, dist: 10.0\n",
      "book: Darkness Visible: A Memoir of Madness, dist: 10.0\n",
      "book: The Dark Is Rising, dist: 10.0\n",
      "book: Sophie's World: A Novel About the History of Philosophy (Berkeley Signature Edition), dist: 10.0\n",
      "book: The Grey King, dist: 10.0\n"
     ]
    }
   ],
   "source": [
    "cooc.get_rec(1)\n",
    "# странно тут куча книг с гарри потером..."
   ]
  },
  {
   "cell_type": "code",
   "execution_count": 98,
   "metadata": {},
   "outputs": [
    {
     "name": "stdout",
     "output_type": "stream",
     "text": [
      "Для книги : 253\n",
      " получены следующие рекомендации:\n",
      "book: Memoirs of a Geisha Uk, dist: 9.5\n",
      "book: Frankenstein: Or, the Modern Prometheus (World's Classics), dist: 9.5\n",
      "book: River God, dist: 9.5\n",
      "book: Good in Bed, dist: 9.0\n",
      "book: Bite (Love Spell), dist: 9.0\n",
      "book: Neverwhere : A Novel, dist: 9.0\n",
      "book: Watership Down, dist: 8.5\n",
      "book: Fast Food Nation: The Dark Side of the All-American Meal, dist: 8.5\n",
      "book: Night Of Crash-Test Dummies, dist: 8.5\n",
      "book: The Forgetting Room: A Fiction (Byzantium Book), dist: 8.5\n"
     ]
    }
   ],
   "source": [
    "cooc.get_rec(10)"
   ]
  },
  {
   "cell_type": "code",
   "execution_count": 122,
   "metadata": {},
   "outputs": [
    {
     "name": "stdout",
     "output_type": "stream",
     "text": [
      "Для книги : Ultimate Unofficial Guide to the Mysteries of Harry Potter\n",
      " получены следующие рекомендации:\n",
      "book: The Fellowship of the Ring (The Lord of the Rings, Part 1), dist: 10.0\n",
      "book: The Hobbit : The Enchanting Prelude to The Lord of the Rings, dist: 10.0\n",
      "book: Harry Potter and the Chamber of Secrets (Book 2), dist: 10.0\n",
      "book: Harry Potter and the Sorcerer's Stone (Book 1), dist: 10.0\n",
      "book: The Bad Beginning (A Series of Unfortunate Events, Book 1), dist: 10.0\n",
      "book: Artemis Fowl (Artemis Fowl, Book 1), dist: 10.0\n",
      "book: The Vile Village (A Series of Unfortunate Events, Book 7), dist: 10.0\n",
      "book: The Austere Academy (A Series of Unfortunate Events, Book 5), dist: 10.0\n",
      "book: The Reptile Room (A Series of Unfortunate Events, Book 2), dist: 10.0\n",
      "book: The Miserable Mill (A Series of Unfortunate Events, Book 4), dist: 10.0\n",
      "book: The Ersatz Elevator (A Series of Unfortunate Events, Book 6), dist: 10.0\n",
      "book: The Hostile Hospital (A Series of Unfortunate Events, Book 8), dist: 10.0\n",
      "book: The Slippery Slope (A Series of Unfortunate Events, Book 10), dist: 10.0\n",
      "book: The Carnivorous Carnival (A Series of Unfortunate Events, Book 9), dist: 10.0\n",
      "book: The Two Towers (The Lord of the Rings, Part 2), dist: 10.0\n",
      "book: The Return of the King (The Lord of the Rings, Part 3), dist: 10.0\n",
      "book: The Wide Window (A Series of Unfortunate Events, Book 3), dist: 10.0\n",
      "book: Harry Potter and the Goblet of Fire (Book 4), dist: 10.0\n",
      "book: Harry Potter and the Prisoner of Azkaban (Book 3), dist: 10.0\n",
      "book: Harry Potter and the Chamber of Secrets (Book 2), dist: 10.0\n"
     ]
    }
   ],
   "source": [
    "cooc.get_rec(9732, 20)\n",
    "# тут видно, что есть книги о гарри поттере в рекомендациях,\n",
    "# но их заслоняют другие малочисленные выбросы с высокими оценками\n",
    "# а HP изза массовости, получает высокие, но иногда и низкие оценки"
   ]
  },
  {
   "cell_type": "markdown",
   "metadata": {},
   "source": [
    "### Коллаборативная фильтрация"
   ]
  },
  {
   "cell_type": "code",
   "execution_count": null,
   "metadata": {},
   "outputs": [],
   "source": [
    "class Collaborative:\n",
    "    ### я пытался перпеписать реализацию с демонстрации, но она буквально повторяла мои шаги\n",
    "    ### поэтому я оставил как есть\n",
    "    def __init__(self, interactions):\n",
    "        self.csr_rates = coo_array((interactions[\"Book-Rating\"], (interactions.vid, interactions.product_id)))\n",
    "        self.books_mapping = interactions.loc[~interactions.duplicated(\"product_id\"), [\"product_id\", \"Book-Title\"]]\n",
    "        self.books_mapping = self.books_mapping.set_index(\"product_id\").to_dict()['Book-Title']\n",
    "\n",
    "    def user_based(self, idx):\n",
    "        user_rates = self.csr_rates.getrow(idx).toarray()[0]\n",
    "        watched_items = np.where(user_rates != 0)[0]\n",
    "        # считаем косинус между пользователем idx и всеми пользователями\n",
    "        metrics = cosine_similarity([user_rates], self.csr_rates).reshape(-1, 1)\n",
    "        # домножаем оценки пользователя на коэффициент похожести\n",
    "        rates = csr_matrix.multiply(self.csr_rates.copy(), metrics)\n",
    "        # чтобы не рекомендовать уже просмотренные - зануляем веса просмотренных\n",
    "        total_rate = (1 - user_rates.astype(bool)) * np.array(np.sum(rates, axis=0))[0]\n",
    "        # печатаем рекомендации\n",
    "        self.get_rec(watched_items, np.argsort(-total_rate)[:10],\n",
    "                    np.sort(total_rate)[-10:])\n",
    "        \n",
    "    def item_based(self, idx):\n",
    "        item_rates = self.csr_rates.getcol(idx).toarray().reshape(1, -1)\n",
    "        # считаем косинус между товаром idx и всеми пользователями\n",
    "        metrics = cosine_similarity(item_rates, self.csr_rates.T).reshape(-1, 1)\n",
    "        # домножаем оценки пользователя на коэффициент похожести\n",
    "        rates = csr_matrix.multiply(self.csr_rates.T.copy(), metrics)\n",
    "        total_rate = np.array(np.sum(rates, axis=1)).ravel()\n",
    "        # печатаем рекомендации\n",
    "        self.get_rec([idx], np.argsort(-total_rate)[:10],\n",
    "                    np.sort(total_rate)[-10:])\n",
    "\n",
    "    def get_rec(self, watched, recs, measure):\n",
    "        print(\"Для пользователя с книгами : \\n\",\n",
    "            \", \".join([\n",
    "                self.books_mapping[book_idx] for book_idx in watched\n",
    "            ]),\n",
    "            \"\\nполучены следующие рекомендации:\"\n",
    "        )\n",
    "        for rec, dist in zip(recs, measure):\n",
    "            print(f\"book: {self.books_mapping[rec]}, dist: {dist}\")"
   ]
  },
  {
   "cell_type": "code",
   "execution_count": null,
   "metadata": {},
   "outputs": [],
   "source": [
    "col = Collaborative(interactions)"
   ]
  },
  {
   "cell_type": "code",
   "execution_count": null,
   "metadata": {},
   "outputs": [
    {
     "name": "stdout",
     "output_type": "stream",
     "text": [
      "Для пользователя с книгами : \n",
      " The Forgetting Room: A Fiction (Byzantium Book) \n",
      "получены следующие рекомендации:\n",
      "book: The Vampire Lestat (Vampire Chronicles, Book II), dist: 49.254263505885724\n",
      "book: Jurassic Park, dist: 50.52880192274561\n",
      "book: Bel Canto: A Novel, dist: 52.0722552721464\n",
      "book: Midnight in the Garden of Good and Evil: A Savannah Story, dist: 52.61560129126597\n",
      "book: The Secret Life of Bees, dist: 54.33297990433643\n",
      "book: The Five People You Meet in Heaven, dist: 56.52037561782808\n",
      "book: To Kill a Mockingbird, dist: 65.71666985558677\n",
      "book: Like Water for Chocolate : A Novel in Monthly Installments with Recipes, Romances, and Home Remedies, dist: 77.81139449615745\n",
      "book: The Venetian's Wife: A Strangely Sensual Tale of a Renaissance Explorer, a Computer, and a Metamorphosis, dist: 78.71431756233918\n",
      "book: Lasher: Lives of the Mayfair Witches (Lives of the Mayfair Witches), dist: 87.95464337364761\n"
     ]
    }
   ],
   "source": [
    "col.item_based(1)"
   ]
  },
  {
   "cell_type": "code",
   "execution_count": null,
   "metadata": {},
   "outputs": [
    {
     "name": "stdout",
     "output_type": "stream",
     "text": [
      "Для пользователя с книгами : \n",
      " Harry Potter and the Order of the Phoenix (Book 5) \n",
      "получены следующие рекомендации:\n",
      "book: Harry Potter and the Order of the Phoenix (Book 5), dist: 181.71281629015226\n",
      "book: Harry Potter and the Prisoner of Azkaban (Book 3), dist: 199.946950692618\n",
      "book: Harry Potter and the Chamber of Secrets (Book 2), dist: 210.5961312601027\n",
      "book: Harry Potter and the Goblet of Fire (Book 4), dist: 217.00168218636045\n",
      "book: Harry Potter and the Sorcerer's Stone (Harry Potter (Paperback)), dist: 250.70730757859374\n",
      "book: Harry Potter and the Sorcerer's Stone (Book 1), dist: 334.5355230835654\n",
      "book: The Da Vinci Code, dist: 348.12377573090174\n",
      "book: Harry Potter and the Goblet of Fire (Book 4), dist: 360.57686339789103\n",
      "book: The Lovely Bones: A Novel, dist: 366.4004464079594\n",
      "book: Harry Potter and the Chamber of Secrets (Book 2), dist: 1341.0000000000002\n"
     ]
    }
   ],
   "source": [
    "# С гарри поттерами - классика\n",
    "col.item_based(4233)"
   ]
  },
  {
   "cell_type": "code",
   "execution_count": null,
   "metadata": {},
   "outputs": [
    {
     "name": "stdout",
     "output_type": "stream",
     "text": [
      "Для пользователя с книгами : \n",
      " Smoke and Mirrors: Short Fictions and Illusions, Amazing Grace : Lives of Children and the Conscience of a Nation, The, The Lion, the Witch, and the Wardrobe (The Chronicles of Narnia, Book 2), Complete Chronicles of Narnia, The Secret Life of Bees, Familiar Lullaby (Fear Familiar) (Harlequin Intrigue, No 614), The Golden Compass (His Dark Materials, Book 1), The Adrian Mole Diaries : The Secret Diary of Adrian Mole, Aged 13 3/4 : The Growing Pains of Adrian Mole, American Gods, Neverwhere, American Gods: A Novel, Stardust, The Bonesetter's Daughter, Harry Potter and the Chamber of Secrets (Book 2), Harry Potter and the Chamber of Secrets (Book 2), Harry Potter and the Prisoner of Azkaban (Book 3), Harry Potter and the Prisoner of Azkaban (Book 3), Harry Potter and the Goblet of Fire (Book 4), The Dark Half, The Duke, Making Minty Malone, 1984, Animal Farm, Something Wicked This Way Comes, Harry Potter and the Sorcerer's Stone (Book 1), The Hobbit: or There and Back Again, The Fellowship of the Ring (The Lord of the Rings, Part 1), She's Come Undone (Oprah's Book Club), The Golden Compass (His Dark Materials, Book 1), Sandman: The Dream Hunters \n",
      "получены следующие рекомендации:\n",
      "book: Clara Callan, dist: 0.2405294615981115\n",
      "book: Justice: Crimes, Trials, and Punishments, dist: 0.2405294615981115\n",
      "book: Step-Ball-Change, dist: 0.2405294615981115\n",
      "book: Eat Cake : A Novel, dist: 0.2405294615981115\n",
      "book: The Shelters of Stone (Earth's Children Series, No 5), dist: 0.2405294615981115\n",
      "book: The Clan of the Cave Bear, dist: 0.2405294615981115\n",
      "book: The Mammoth Hunters, dist: 0.2405294615981115\n",
      "book: Anatomy of the Spirit: The Seven Stages of Power and Healing, dist: 0.2405294615981115\n",
      "book: The Devil in the White City : Murder, Magic, and Madness at the Fair That Changed America (Illinois), dist: 0.2405294615981115\n",
      "book: The Law of Love, dist: 0.2405294615981115\n"
     ]
    }
   ],
   "source": [
    "col.user_based(6)\n",
    "# тут нельзя увидеть гарри поттера в рекомендациях, так как этот \n",
    "# книжный наркоман уже все прочитал"
   ]
  },
  {
   "cell_type": "code",
   "execution_count": null,
   "metadata": {},
   "outputs": [
    {
     "name": "stdout",
     "output_type": "stream",
     "text": [
      "Для пользователя с книгами : \n",
      " The Alibi, The Beach House, A Kiss Remembered, The Short Forever, Dead Aim, Angels &amp; Demons \n",
      "получены следующие рекомендации:\n",
      "book: Clara Callan, dist: 0.0\n",
      "book: Step-Ball-Change, dist: 0.0\n",
      "book: Eat Cake : A Novel, dist: 0.0\n",
      "book: The Shelters of Stone (Earth's Children Series, No 5), dist: 0.0\n",
      "book: The Clan of the Cave Bear, dist: 0.0\n",
      "book: The Mammoth Hunters, dist: 0.0\n",
      "book: Anatomy of the Spirit: The Seven Stages of Power and Healing, dist: 0.0\n",
      "book: The Law of Love, dist: 0.0\n",
      "book: Justice: Crimes, Trials, and Punishments, dist: 0.0\n",
      "book: A Gracious Plenty : A Novel, dist: 0.0\n"
     ]
    }
   ],
   "source": [
    "col.user_based(2)"
   ]
  }
 ],
 "metadata": {
  "kernelspec": {
   "display_name": "myenv",
   "language": "python",
   "name": "python3"
  },
  "language_info": {
   "codemirror_mode": {
    "name": "ipython",
    "version": 3
   },
   "file_extension": ".py",
   "mimetype": "text/x-python",
   "name": "python",
   "nbconvert_exporter": "python",
   "pygments_lexer": "ipython3",
   "version": "3.9.6"
  }
 },
 "nbformat": 4,
 "nbformat_minor": 2
}
